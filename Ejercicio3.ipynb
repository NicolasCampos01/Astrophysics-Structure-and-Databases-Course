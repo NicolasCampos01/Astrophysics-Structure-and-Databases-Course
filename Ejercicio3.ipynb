{
 "cells": [
  {
   "cell_type": "code",
   "execution_count": 98,
   "metadata": {},
   "outputs": [],
   "source": [
    "import sqlite3"
   ]
  },
  {
   "cell_type": "code",
   "execution_count": 99,
   "metadata": {},
   "outputs": [
    {
     "name": "stdout",
     "output_type": "stream",
     "text": [
      "Connected to the database successfully\n"
     ]
    }
   ],
   "source": [
    "# Connect to the database\n",
    "conn = sqlite3.connect('astronomia.db')\n",
    "\n",
    "# Create a cursor object\n",
    "cursor = conn.cursor()\n",
    "\n",
    "print(\"Connected to the database successfully\")"
   ]
  },
  {
   "cell_type": "code",
   "execution_count": 100,
   "metadata": {},
   "outputs": [
    {
     "data": {
      "text/plain": [
       "<sqlite3.Cursor at 0x109255030>"
      ]
     },
     "execution_count": 100,
     "metadata": {},
     "output_type": "execute_result"
    }
   ],
   "source": [
    "# elminate the tables if exist\n",
    "cursor.execute('DROP TABLE IF EXISTS Observaciones')\n",
    "cursor.execute('DROP TABLE IF EXISTS Telescopios')\n",
    "cursor.execute('DROP TABLE IF EXISTS Estrellas')\n"
   ]
  },
  {
   "cell_type": "markdown",
   "metadata": {},
   "source": [
    "### Create Tables, Estrellas (stars), Telescopios (Telescopes), Observaciones (Observations)"
   ]
  },
  {
   "cell_type": "code",
   "execution_count": 101,
   "metadata": {},
   "outputs": [
    {
     "data": {
      "text/plain": [
       "<sqlite3.Cursor at 0x109255030>"
      ]
     },
     "execution_count": 101,
     "metadata": {},
     "output_type": "execute_result"
    }
   ],
   "source": [
    "# Crear la tabla Estrellas\n",
    "cursor.execute('''\n",
    "CREATE TABLE Estrellas (\n",
    "    ID INTEGER PRIMARY KEY,\n",
    "    nombre TEXT,\n",
    "    tipo_espectral TEXT,\n",
    "    magnitud REAL\n",
    ");\n",
    "''')\n",
    "\n",
    "# Crear la tabla Telescopios\n",
    "cursor.execute('''\n",
    "CREATE TABLE Telescopios (\n",
    "    ID INTEGER PRIMARY KEY,\n",
    "    nombre TEXT,\n",
    "    apertura REAL\n",
    ");\n",
    "''')\n",
    "\n",
    "# Crear la tabla Observaciones\n",
    "cursor.execute('''\n",
    "CREATE TABLE Observaciones (\n",
    "    ID INTEGER PRIMARY KEY,\n",
    "    ID_estrella INTEGER,\n",
    "    hora_observacion TEXT,\n",
    "    telescopio TEXT,\n",
    "    FOREIGN KEY (ID_estrella) REFERENCES Estrellas(ID)\n",
    ");\n",
    "''')"
   ]
  },
  {
   "cell_type": "markdown",
   "metadata": {},
   "source": [
    "### Insert Into Estrellas, Observaciones , Telescopes"
   ]
  },
  {
   "cell_type": "code",
   "execution_count": 102,
   "metadata": {},
   "outputs": [],
   "source": [
    "# Insertar datos en la tabla Estrellas\n",
    "cursor.execute('''\n",
    "INSERT INTO Estrellas (ID, nombre, tipo_espectral, magnitud) VALUES\n",
    "(1, 'Betelgeuse', 'M1', 0.42),\n",
    "(2, 'Sirius', 'A1', -1.46),\n",
    "(3, 'Vega', 'A0', 0.03),\n",
    "(4, 'Proxima Centauri', 'M5', 11.05);\n",
    "''')\n",
    "\n",
    "# Insertar datos en la tabla Telescopios\n",
    "cursor.execute('''\n",
    "INSERT INTO Telescopios (ID, nombre, apertura) VALUES\n",
    "(1, 'ALMA', 12.0),\n",
    "(2, 'VLT', 8.2);\n",
    "''')\n",
    "\n",
    "# Insertar datos en la tabla Observaciones\n",
    "cursor.execute('''\n",
    "INSERT INTO Observaciones (ID, ID_estrella, hora_observacion, telescopio) VALUES\n",
    "(1, 1, '2024-10-05 12:00', 'ALMA'),\n",
    "(2, 2, '2024-10-06 14:30', 'VLT'),\n",
    "(3, 3, '2024-10-07 16:00', 'ALMA'),\n",
    "(4, 1, '2024-10-08 18:30', 'ALMA'),\n",
    "(5, 4, '2024-10-09 20:45', 'VLT');\n",
    "''')\n",
    "\n",
    "# Confirmar los cambios y cerrar la conexión\n",
    "conn.commit()\n",
    "conn.close()"
   ]
  },
  {
   "cell_type": "code",
   "execution_count": 103,
   "metadata": {},
   "outputs": [],
   "source": [
    "conn = sqlite3.connect(\"astronomia.db\")\n",
    "cursor = conn.cursor()\n"
   ]
  },
  {
   "cell_type": "code",
   "execution_count": 104,
   "metadata": {},
   "outputs": [
    {
     "name": "stdout",
     "output_type": "stream",
     "text": [
      "Estrellas: Nombre y Magnitud\n",
      "('Betelgeuse', 0.42)\n",
      "('Sirius', -1.46)\n",
      "('Vega', 0.03)\n",
      "('Proxima Centauri', 11.05)\n",
      "Estrellas observadas y horas de observacion:\n",
      "('Betelgeuse', '2024-10-05 12:00')\n",
      "('Sirius', '2024-10-06 14:30')\n",
      "('Vega', '2024-10-07 16:00')\n",
      "('Betelgeuse', '2024-10-08 18:30')\n",
      "('Proxima Centauri', '2024-10-09 20:45')\n",
      "Estrellas con magnitud mayor a 1:\n",
      "('Proxima Centauri',)\n",
      "Número de observaciones realizadas con el telescopio ALMA: 3\n"
     ]
    }
   ],
   "source": [
    "# Conectar a la base de datos\n",
    "conn = sqlite3.connect('astronomia.db')\n",
    "cursor = conn.cursor()\n",
    "\n",
    "#nombre de las estrellas y magnitud\n",
    "cursor.execute('''SELECT nombre, magnitud FROM Estrellas''')\n",
    "estrellas = cursor.fetchall()\n",
    "print('Estrellas: Nombre y Magnitud')\n",
    "for estrella in estrellas:\n",
    "    print(estrella)\n",
    "\n",
    "# estrellas observadas y las horas de observacion\n",
    "cursor.execute('''SELECT Estrellas.nombre, Observaciones.hora_observacion FROM Estrellas JOIN Observaciones ON Estrellas.ID = Observaciones.ID_estrella''')\n",
    "observaciones = cursor.fetchall()\n",
    "print('Estrellas observadas y horas de observacion:')\n",
    "for observacion in observaciones:\n",
    "    print(observacion)\n",
    "\n",
    "#seleccionar todas las estrellas con magnitud mayor a 1\n",
    "cursor.execute('''SELECT nombre FROM Estrellas WHERE magnitud > 1''')\n",
    "estrellas_mayora1 = cursor.fetchall()\n",
    "print('Estrellas con magnitud mayor a 1:')\n",
    "for estrella in estrellas_mayora1:\n",
    "    print(estrella)\n",
    "\n",
    "#observaciones con telescopio alma\n",
    "cursor.execute(\"SELECT COUNT(*) FROM Observaciones WHERE telescopio = 'ALMA'\")\n",
    "observaciones_alma = cursor.fetchone()[0]\n",
    "print(\"Número de observaciones realizadas con el telescopio ALMA:\", observaciones_alma)\n",
    "# Cerrar la conexión\n",
    "conn.close()"
   ]
  },
  {
   "cell_type": "code",
   "execution_count": 106,
   "metadata": {},
   "outputs": [
    {
     "name": "stdout",
     "output_type": "stream",
     "text": [
      "Estrellas observadas más de una vez:\n",
      "('Betelgeuse',)\n",
      "\n",
      "Nombre de las estrellas y número de observaciones, ordenadas por número de observaciones:\n",
      "('Betelgeuse', 2)\n",
      "('Vega', 1)\n",
      "('Sirius', 1)\n",
      "('Proxima Centauri', 1)\n",
      "\n",
      "Telescopios utilizados en las observaciones, sin duplicados:\n",
      "('ALMA',)\n",
      "('VLT',)\n",
      "\n",
      "Estrellas observadas más veces que el promedio de observaciones por estrella:\n",
      "('Betelgeuse',)\n"
     ]
    }
   ],
   "source": [
    "conn = sqlite3.connect(\"astronomia.db\")\n",
    "cursor = conn.cursor()\n",
    "\n",
    "cursor.execute('''\n",
    "SELECT nombre \n",
    "FROM Estrellas \n",
    "WHERE ID IN (\n",
    "    SELECT ID_estrella \n",
    "    FROM Observaciones \n",
    "    GROUP BY ID_estrella \n",
    "    HAVING COUNT(*) > 1\n",
    ")\n",
    "''')\n",
    "estrellas_mas_de_una_vez = cursor.fetchall()\n",
    "print(\"Estrellas observadas más de una vez:\")\n",
    "for estrella in estrellas_mas_de_una_vez:\n",
    "    print(estrella)\n",
    "    \n",
    "cursor.execute('''\n",
    "SELECT Estrellas.nombre, COUNT(Observaciones.ID) as num_observaciones\n",
    "FROM Observaciones\n",
    "JOIN Estrellas ON Observaciones.ID_estrella = Estrellas.ID\n",
    "GROUP BY Estrellas.nombre\n",
    "ORDER BY num_observaciones DESC\n",
    "''')\n",
    "estrellas_num_observaciones = cursor.fetchall()\n",
    "print(\"\\nNombre de las estrellas y número de observaciones, ordenadas por número de observaciones:\")\n",
    "for estrella in estrellas_num_observaciones:\n",
    "    print(estrella)\n",
    "\n",
    "cursor.execute('SELECT DISTINCT telescopio FROM Observaciones')\n",
    "telescopios = cursor.fetchall()\n",
    "print(\"\\nTelescopios utilizados en las observaciones, sin duplicados:\")\n",
    "for telescopio in telescopios:\n",
    "    print(telescopio)\n",
    "\n",
    "cursor.execute('''\n",
    "SELECT nombre \n",
    "FROM Estrellas \n",
    "WHERE ID IN (\n",
    "    SELECT ID_estrella \n",
    "    FROM Observaciones \n",
    "    GROUP BY ID_estrella \n",
    "    HAVING COUNT(*) > (\n",
    "        SELECT AVG(num_observaciones) \n",
    "        FROM (\n",
    "            SELECT COUNT(*) as num_observaciones \n",
    "            FROM Observaciones \n",
    "            GROUP BY ID_estrella\n",
    "        )\n",
    "    )\n",
    ")\n",
    "''')\n",
    "estrellas_mas_que_promedio = cursor.fetchall()\n",
    "print(\"\\nEstrellas observadas más veces que el promedio de observaciones por estrella:\")\n",
    "for estrella in estrellas_mas_que_promedio:\n",
    "    print(estrella)\n",
    "\n",
    "conn.close()"
   ]
  }
 ],
 "metadata": {
  "kernelspec": {
   "display_name": "Python 3",
   "language": "python",
   "name": "python3"
  },
  "language_info": {
   "codemirror_mode": {
    "name": "ipython",
    "version": 3
   },
   "file_extension": ".py",
   "mimetype": "text/x-python",
   "name": "python",
   "nbconvert_exporter": "python",
   "pygments_lexer": "ipython3",
   "version": "3.9.6"
  }
 },
 "nbformat": 4,
 "nbformat_minor": 2
}
